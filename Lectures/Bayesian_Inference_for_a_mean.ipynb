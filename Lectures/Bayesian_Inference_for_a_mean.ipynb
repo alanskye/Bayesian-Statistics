{
 "cells": [
  {
   "cell_type": "markdown",
   "id": "ed115df1",
   "metadata": {},
   "source": [
    "## Bayesian Inference for a Mean\n",
    "### Step 0: Import packages:"
   ]
  },
  {
   "cell_type": "code",
   "execution_count": 1,
   "id": "65ea26b3",
   "metadata": {},
   "outputs": [],
   "source": [
    "import numpy as np\n",
    "from scipy.stats import norm, gamma, poisson"
   ]
  },
  {
   "cell_type": "markdown",
   "id": "e6672673",
   "metadata": {},
   "source": [
    "### Step 1: Load Dataset\n",
    "Download the dataset from [here (monika's github repository)](https://github.com/alanskye/Undergrad-Bayesian-Course/blob/master/Lectures/3-BayesianInferenceMean/CEsample1.csv) and put it under your own directory."
   ]
  },
  {
   "cell_type": "code",
   "execution_count": 2,
   "id": "0384ea94",
   "metadata": {},
   "outputs": [],
   "source": [
    "DATASET_PATH = 'data/CEsample1.csv'"
   ]
  },
  {
   "cell_type": "code",
   "execution_count": null,
   "id": "f6d07579",
   "metadata": {},
   "outputs": [],
   "source": []
  }
 ],
 "metadata": {
  "kernelspec": {
   "display_name": "Python 3 (ipykernel)",
   "language": "python",
   "name": "python3"
  },
  "language_info": {
   "codemirror_mode": {
    "name": "ipython",
    "version": 3
   },
   "file_extension": ".py",
   "mimetype": "text/x-python",
   "name": "python",
   "nbconvert_exporter": "python",
   "pygments_lexer": "ipython3",
   "version": "3.10.1"
  }
 },
 "nbformat": 4,
 "nbformat_minor": 5
}
