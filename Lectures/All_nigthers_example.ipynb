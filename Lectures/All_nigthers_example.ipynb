{
 "cells": [
  {
   "cell_type": "markdown",
   "id": "a443ffe1",
   "metadata": {},
   "source": [
    "## Fall 2019: MATH 347 Bayesian Statistics"
   ]
  },
  {
   "cell_type": "markdown",
   "id": "fafeec6a",
   "metadata": {},
   "source": [
    "*__Bayesian inference__ provides a formal approach for updating __prior belief__ with the __observed data__ to quantify uncertainity __a posteriori__ about $\\theta$*\n",
    "\n",
    "This is the jupyter notebook for the bayesian posterior distribution with binominal data and a discrete prior.  \n",
    "**Question:** What percentage $p$ of all Vassar students stayed up at least one night last year?"
   ]
  },
  {
   "cell_type": "markdown",
   "id": "ae1c564a",
   "metadata": {},
   "source": [
    "### Step 0: Prepare Packages"
   ]
  },
  {
   "cell_type": "code",
   "execution_count": 2,
   "id": "52eaa9fc",
   "metadata": {},
   "outputs": [],
   "source": [
    "import numpy as np\n",
    "import pandas as pd\n",
    "from scipy.stats import binom"
   ]
  },
  {
   "cell_type": "markdown",
   "id": "a582f909",
   "metadata": {},
   "source": [
    "### Step 1: load the prior and data"
   ]
  },
  {
   "cell_type": "code",
   "execution_count": 3,
   "id": "4dd9f90b",
   "metadata": {},
   "outputs": [],
   "source": [
    "# prior distribution (beleif)\n",
    "prior_values = np.array([0, .1, .2, .3, .4, .5, .6, .7, .8, .9, 1])\n",
    "prior_probs = np.array([1/23, 1/23, 7/23, 7/23, 3/23, 3/23, 1/23, 0/23, 0/23, 0/23, 0/23])\n",
    "\n",
    "# Assume that the sample is representative of Vassar students at large.\n",
    "# Observed sample data: 10 people and 3 of them stayed up at lears one night last year (0.3)\n",
    "n = 10\n",
    "y = 3"
   ]
  },
  {
   "cell_type": "markdown",
   "id": "3b42d9b1",
   "metadata": {},
   "source": [
    "### Step 2: Calculate the likelihood probablities and posterior probablities\n",
    "We choosed binominal distribution as sampling models - $f(y|\\theta)$  \n",
    "In discrete case, Bayes' Theorem says: $$\\pi(\\theta|y)=\\frac{f(y|\\theta)\\pi(\\theta)}{\\sum{f(y|\\theta_i)pi(\\theta_i)}}$$"
   ]
  },
  {
   "cell_type": "code",
   "execution_count": 7,
   "id": "d927853d",
   "metadata": {},
   "outputs": [],
   "source": [
    "# probability of sampling model outputs y given prior-value\n",
    "binom_probs = binom.pmf(y, n, prior_values)\n",
    "\n",
    "# compute joint probabilities\n",
    "joint_probs = binom_probs * prior_probs\n",
    "\n",
    "# compute marginal probability of y\n",
    "prob_fy = np.sum(joint_probs)\n",
    "\n",
    "# compute posterior probabilities\n",
    "posterior_probs = joint_probs / prob_fy"
   ]
  },
  {
   "cell_type": "markdown",
   "id": "592dca6d",
   "metadata": {},
   "source": [
    "### Step 3: Show results"
   ]
  },
  {
   "cell_type": "code",
   "execution_count": 14,
   "id": "1c57193e",
   "metadata": {},
   "outputs": [
    {
     "name": "stdout",
     "output_type": "stream",
     "text": [
      "      p     prior  posterior\n",
      "0   0.0  0.043478   0.000000\n",
      "1   0.1  0.043478   0.013124\n",
      "2   0.2  0.304348   0.322235\n",
      "3   0.3  0.304348   0.427073\n",
      "4   0.4  0.130435   0.147474\n",
      "5   0.5  0.130435   0.080385\n",
      "6   0.6  0.043478   0.009710\n",
      "7   0.7  0.000000   0.000000\n",
      "8   0.8  0.000000   0.000000\n",
      "9   0.9  0.000000   0.000000\n",
      "10  1.0  0.000000   0.000000\n"
     ]
    }
   ],
   "source": [
    "result = np.transpose(np.array([prior_values, prior_probs, posterior_probs]))\n",
    "df = pd.DataFrame(result, columns = ['p','prior','posterior'])\n",
    "print(df)"
   ]
  },
  {
   "cell_type": "code",
   "execution_count": null,
   "id": "2bb1490e",
   "metadata": {},
   "outputs": [],
   "source": []
  }
 ],
 "metadata": {
  "kernelspec": {
   "display_name": "Python 3 (ipykernel)",
   "language": "python",
   "name": "python3"
  },
  "language_info": {
   "codemirror_mode": {
    "name": "ipython",
    "version": 3
   },
   "file_extension": ".py",
   "mimetype": "text/x-python",
   "name": "python",
   "nbconvert_exporter": "python",
   "pygments_lexer": "ipython3",
   "version": "3.9.7"
  }
 },
 "nbformat": 4,
 "nbformat_minor": 5
}
