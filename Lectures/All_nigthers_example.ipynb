{
 "cells": [
  {
   "cell_type": "markdown",
   "id": "a443ffe1",
   "metadata": {},
   "source": [
    "## Fall 2019: MATH 347 Bayesian Statistics"
   ]
  },
  {
   "cell_type": "markdown",
   "id": "fafeec6a",
   "metadata": {},
   "source": [
    "  *__Bayesian inference__ provides a formal approach for updating __prior belief__ with the __observed data__ to quantify uncertainity __a posteriori__ about $\\theta$*\n",
    "\n",
    "This is the jupyter notebook for the bayesian posterior distribution with binominal data and a discrete prior.  \n",
    "**Question:** What percentage $p$ of all Vassar students stayed up at least one night last year?"
   ]
  },
  {
   "cell_type": "markdown",
   "id": "ae1c564a",
   "metadata": {},
   "source": [
    "### Step 0: Prepare Packages"
   ]
  },
  {
   "cell_type": "code",
   "execution_count": 1,
   "id": "52eaa9fc",
   "metadata": {},
   "outputs": [],
   "source": [
    "import numpy as np\n",
    "import pandas as pd\n",
    "import matplotlib.pyplot as plt\n",
    "from scipy.stats import binom"
   ]
  },
  {
   "cell_type": "markdown",
   "id": "a582f909",
   "metadata": {},
   "source": [
    "### Step 1: load the prior and data"
   ]
  },
  {
   "cell_type": "code",
   "execution_count": 2,
   "id": "4dd9f90b",
   "metadata": {},
   "outputs": [],
   "source": [
    "# prior distribution (beleif)\n",
    "prior_values = np.array([0, .1, .2, .3, .4, .5, .6, .7, .8, .9, 1])\n",
    "prior_probs = np.array([1/23, 1/23, 7/23, 7/23, 3/23, 3/23, 1/23, 0/23, 0/23, 0/23, 0/23])\n",
    "\n",
    "# Assume that the sample is representative of Vassar students at large.\n",
    "# Observed sample data: 10 people and 3 of them stayed up at lears one night last year (0.3)\n",
    "n = 10\n",
    "y = 3"
   ]
  },
  {
   "cell_type": "markdown",
   "id": "3b42d9b1",
   "metadata": {},
   "source": [
    "### Step 2: Calculate the likelihood probablities and posterior probablities\n",
    "We choosed binominal distribution as sampling models - $f(y|\\theta)$  \n",
    "In discrete case, Bayes' Theorem says: $$\\pi(\\theta|y)=\\frac{f(y|\\theta)\\pi(\\theta)}{\\sum{f(y|\\theta_i)pi(\\theta_i)}}$$"
   ]
  },
  {
   "cell_type": "code",
   "execution_count": 3,
   "id": "d927853d",
   "metadata": {},
   "outputs": [],
   "source": [
    "# probability of sampling model outputs y given prior-value\n",
    "binom_probs = binom.pmf(y, n, prior_values)\n",
    "\n",
    "# compute joint probabilities\n",
    "joint_probs = binom_probs * prior_probs\n",
    "\n",
    "# compute marginal probability of y\n",
    "prob_fy = np.sum(joint_probs)\n",
    "\n",
    "# compute posterior probabilities\n",
    "posterior_probs = joint_probs / prob_fy"
   ]
  },
  {
   "cell_type": "markdown",
   "id": "592dca6d",
   "metadata": {},
   "source": [
    "### Step 3: Show results"
   ]
  },
  {
   "cell_type": "code",
   "execution_count": 4,
   "id": "1c57193e",
   "metadata": {},
   "outputs": [
    {
     "name": "stdout",
     "output_type": "stream",
     "text": [
      "      p     prior  posterior\n",
      "0   0.0  0.043478   0.000000\n",
      "1   0.1  0.043478   0.013124\n",
      "2   0.2  0.304348   0.322235\n",
      "3   0.3  0.304348   0.427073\n",
      "4   0.4  0.130435   0.147474\n",
      "5   0.5  0.130435   0.080385\n",
      "6   0.6  0.043478   0.009710\n",
      "7   0.7  0.000000   0.000000\n",
      "8   0.8  0.000000   0.000000\n",
      "9   0.9  0.000000   0.000000\n",
      "10  1.0  0.000000   0.000000\n"
     ]
    }
   ],
   "source": [
    "result = np.transpose(np.array([prior_values, prior_probs, posterior_probs]))\n",
    "df = pd.DataFrame(result, columns = ['p','prior','posterior'])\n",
    "print(df)"
   ]
  },
  {
   "cell_type": "markdown",
   "id": "a746b4f4",
   "metadata": {},
   "source": [
    "Visualization:"
   ]
  },
  {
   "cell_type": "code",
   "execution_count": 5,
   "id": "2bb1490e",
   "metadata": {},
   "outputs": [
    {
     "data": {
      "image/png": "[encoded data removed]",
      "text/plain": [
       "<Figure size 432x288 with 1 Axes>"
      ]
     },
     "metadata": {
      "needs_background": "light"
     },
     "output_type": "display_data"
    }
   ],
   "source": [
    "plt.scatter(prior_values, prior_probs, label=\"prior probs\")\n",
    "plt.scatter(prior_values, posterior_probs, label='posterior probs')\n",
    "plt.legend()\n",
    "plt.show()"
   ]
  },
  {
   "cell_type": "markdown",
   "id": "f4004732",
   "metadata": {},
   "source": [
    "### HW1-Problem 6: Sequential Update"
   ]
  },
  {
   "cell_type": "code",
   "execution_count": 6,
   "id": "473d11e1",
   "metadata": {},
   "outputs": [],
   "source": [
    "# Suppose that another samples have been added\n",
    "n2 = 10\n",
    "y2 = 5"
   ]
  },
  {
   "cell_type": "code",
   "execution_count": 12,
   "id": "f109a8ea",
   "metadata": {},
   "outputs": [],
   "source": [
    "# With replacing prior_probs with posterior probs\n",
    "prior_probs_updated = posterior_probs\n",
    "binom_probs_updated = binom.pmf(y2, n2, prior_values)\n",
    "joint_probs_updated = binom_probs_updated * prior_probs_updated\n",
    "prob_fy_updated = np.sum(joint_probs_updated)\n",
    "posterior_probs_updated = joint_probs_updated / prob_fy_updated\n",
    "    \n",
    "# Without update\n",
    "n = n + n2\n",
    "y = y + y2\n",
    "binom_probs = binom.pmf(y, n, prior_values)\n",
    "joint_probs = binom_probs * prior_probs\n",
    "prob_fy = np.sum(joint_probs)\n",
    "posterior_probs = joint_probs / prob_fy\n"
   ]
  },
  {
   "cell_type": "code",
   "execution_count": 13,
   "id": "1809ad92",
   "metadata": {},
   "outputs": [
    {
     "data": {
      "image/png": "[encoded data removed]",
      "text/plain": [
       "<Figure size 432x288 with 1 Axes>"
      ]
     },
     "metadata": {
      "needs_background": "light"
     },
     "output_type": "display_data"
    }
   ],
   "source": [
    "plt.scatter(prior_values, posterior_probs_updated, label=\"updated\")\n",
    "plt.scatter(prior_values, posterior_probs, label=\"combined\")\n",
    "plt.legend()\n",
    "plt.show()"
   ]
  },
  {
   "cell_type": "markdown",
   "id": "d0065c41",
   "metadata": {},
   "source": [
    "https://stats.stackexchange.com/questions/169144/bayesian-updating-point-for-point/169186#169186\n",
    "\n",
    "If observations(data) are exchangable, That is, $$p(X_1,...,X_n|\\theta)=\\prod_{i=1}^{n}{p(X_i|\\theta)}$$ We can get the same result regardless of choosing point-by-point or via a batch update of observations"
   ]
  },
  {
   "cell_type": "code",
   "execution_count": null,
   "id": "7146f448",
   "metadata": {},
   "outputs": [],
   "source": []
  }
 ],
 "metadata": {
  "kernelspec": {
   "display_name": "Python 3 (ipykernel)",
   "language": "python",
   "name": "python3"
  },
  "language_info": {
   "codemirror_mode": {
    "name": "ipython",
    "version": 3
   },
   "file_extension": ".py",
   "mimetype": "text/x-python",
   "name": "python",
   "nbconvert_exporter": "python",
   "pygments_lexer": "ipython3",
   "version": "3.9.7"
  }
 },
 "nbformat": 4,
 "nbformat_minor": 5
}
