{
 "cells": [
  {
   "cell_type": "markdown",
   "id": "aec6188b",
   "metadata": {},
   "source": [
    "## Bayesian Inference for a Proprtion\n",
    "\n",
    "\n",
    "* Example: Tokyo Express customers' dining preference  \n",
    "The owner wants to find out how popular is choice of Friday.\n"
   ]
  },
  {
   "cell_type": "markdown",
   "id": "ff850f85",
   "metadata": {},
   "source": [
    "### Step 0: Import necesasry packages"
   ]
  },
  {
   "cell_type": "code",
   "execution_count": 3,
   "id": "5dc3364a",
   "metadata": {},
   "outputs": [],
   "source": [
    "import numpy as np\n",
    "import pandas as pd\n",
    "import matplotlib.pyplot as plt\n",
    "from scipy.stats import binom"
   ]
  },
  {
   "cell_type": "markdown",
   "id": "f45f2da6",
   "metadata": {},
   "source": [
    "### Step 1: Consider the percentage of customers' choice is Friday  \n",
    "Before giving out the survey, let's consider the possible values and corresponding probablities of $p$"
   ]
  },
  {
   "cell_type": "code",
   "execution_count": 11,
   "id": "dce2b237",
   "metadata": {},
   "outputs": [],
   "source": [
    "prior_values = np.array([0.3, 0.4, 0.5, 0.6, 0.7, 0.8])\n",
    "prior_probs = np.array([0.125, 0.125, 0.250, 0.250, 0.125, 0.125])"
   ]
  },
  {
   "cell_type": "markdown",
   "id": "e359675d",
   "metadata": {},
   "source": [
    "Note that probabilities are reasonable due to **Axioms of Probability**  \n",
    "1. For any event $A$, $P(A) \\in [0, 1]$\n",
    "2. $P(U)=1$\n",
    "3. If $A_i$ and $A_j$ are disjoint, $P(A_i \\cup A_j)=P(A_i)+P(A_j)$"
   ]
  },
  {
   "cell_type": "code",
   "execution_count": 23,
   "id": "7efb4c2c",
   "metadata": {},
   "outputs": [
    {
     "data": {
      "image/png": "[encoded data removed]",
      "text/plain": [
       "<Figure size 432x288 with 1 Axes>"
      ]
     },
     "metadata": {
      "needs_background": "light"
     },
     "output_type": "display_data"
    }
   ],
   "source": [
    "\n",
    "plt.bar(prior_values, prior_probs, color='blue', width=0.05)\n",
    "plt.show()"
   ]
  },
  {
   "cell_type": "markdown",
   "id": "e9839b31",
   "metadata": {},
   "source": [
    "### Step 2: Collect the data and Compute the likelihood of $p$  \n",
    "Out of the 20 responses, 12 say that their favorite day for eating out for dinner is Friday.  \n",
    "Quantitiy of interest: $p$, unknown, we're trying to make a inference about it!"
   ]
  },
  {
   "cell_type": "code",
   "execution_count": 24,
   "id": "d24390fb",
   "metadata": {},
   "outputs": [],
   "source": [
    "n = 20\n",
    "y = 12"
   ]
  },
  {
   "cell_type": "markdown",
   "id": "7ac307b2",
   "metadata": {},
   "source": [
    "\n",
    "* **The Binomial Distribution**  \n",
    "1. One is repeating the same basic task $n$ times\n",
    "2. 2 outcomes - *success* or *failure*\n",
    "3. The probability of of *success* is always $p$\n",
    "4. The results of outcomes from different trials are independent\n",
    "\n",
    "\n",
    "Do you think that the survey is a Binomial Experiment?\n",
    "1. 20 people\n",
    "2. *success*: Choose Friday\n",
    "3. For simplicity, let's assume that people answered independently\n",
    "\n",
    "$$P(Y=k)={n \\choose k}p^k(1-p)^{n-k}, k=0,...,n$$\n",
    "* **Likelihood**  \n",
    "a function of unknown quantity of interest. After collecting data, in this case,\n",
    "$$L(p) = {20 \\choose 12}p^k(1-p)^{n-k}$$\n",
    "$Y:$ even though it is the random variable, but once we observed the data, it is now **fixed!**  \n",
    "\n",
    "In Bayesian Inference, we assume that data is fixed and parameter is unknown. We only need $n, k$ and possible values of $p$ when computing the likelihood function. Note that we don't need $\\pi_{\\text{owner}}(p)$"
   ]
  },
  {
   "cell_type": "code",
   "execution_count": 25,
   "id": "d07edf35",
   "metadata": {},
   "outputs": [
    {
     "name": "stdout",
     "output_type": "stream",
     "text": [
      "     p  prior  likelihood\n",
      "0  0.3  0.125    0.003859\n",
      "1  0.4  0.125    0.035497\n",
      "2  0.5  0.250    0.120134\n",
      "3  0.6  0.250    0.179706\n",
      "4  0.7  0.125    0.114397\n",
      "5  0.8  0.125    0.022161\n"
     ]
    }
   ],
   "source": [
    "likelihoods = binom.pmf(y, n, prior_values)\n",
    "\n",
    "result = np.transpose(np.array([prior_values, prior_probs, likelihoods]))\n",
    "df = pd.DataFrame(result, columns = ['p','prior','likelihood'])\n",
    "print(df)"
   ]
  },
  {
   "cell_type": "markdown",
   "id": "e99b6275",
   "metadata": {},
   "source": [
    "### Step 3: Compute posterior distribution"
   ]
  },
  {
   "cell_type": "markdown",
   "id": "d5946ec3",
   "metadata": {},
   "source": [
    "$$\\pi(p_i|y)=\\frac{\\pi(p_i) \\times L(p)}{\\sum_{j}{\\pi(p_j) \\times L(p_j)}}$$"
   ]
  },
  {
   "cell_type": "code",
   "execution_count": 30,
   "id": "373707be",
   "metadata": {},
   "outputs": [],
   "source": [
    "products = likelihoods * prior_probs\n",
    "sum_p = np.sum(products)\n",
    "posterior_probs = products / sum_p"
   ]
  },
  {
   "cell_type": "code",
   "execution_count": 31,
   "id": "f8566b05",
   "metadata": {},
   "outputs": [
    {
     "data": {
      "image/png": "[encoded data removed]",
      "text/plain": [
       "<Figure size 432x288 with 1 Axes>"
      ]
     },
     "metadata": {
      "needs_background": "light"
     },
     "output_type": "display_data"
    }
   ],
   "source": [
    "plt.bar(prior_values, posterior_probs, color='blue', width=0.05)\n",
    "plt.show()"
   ]
  },
  {
   "cell_type": "code",
   "execution_count": 33,
   "id": "a4f41c72",
   "metadata": {},
   "outputs": [
    {
     "name": "stdout",
     "output_type": "stream",
     "text": [
      "     p  prior  likelihood   product  posterior\n",
      "0  0.3  0.125    0.003859  0.000482   0.004976\n",
      "1  0.4  0.125    0.035497  0.004437   0.045768\n",
      "2  0.5  0.250    0.120134  0.030034   0.309786\n",
      "3  0.6  0.250    0.179706  0.044926   0.463401\n",
      "4  0.7  0.125    0.114397  0.014300   0.147496\n",
      "5  0.8  0.125    0.022161  0.002770   0.028573\n"
     ]
    }
   ],
   "source": [
    "likelihoods = binom.pmf(y, n, prior_values)\n",
    "result = np.transpose(np.array([prior_values, prior_probs, likelihoods, products, posterior_probs]))\n",
    "df = pd.DataFrame(result, columns = ['p','prior','likelihood', 'product', 'posterior'])\n",
    "print(df)"
   ]
  },
  {
   "cell_type": "code",
   "execution_count": null,
   "id": "7ed3e8dc",
   "metadata": {},
   "outputs": [],
   "source": []
  }
 ],
 "metadata": {
  "kernelspec": {
   "display_name": "Python 3 (ipykernel)",
   "language": "python",
   "name": "python3"
  },
  "language_info": {
   "codemirror_mode": {
    "name": "ipython",
    "version": 3
   },
   "file_extension": ".py",
   "mimetype": "text/x-python",
   "name": "python",
   "nbconvert_exporter": "python",
   "pygments_lexer": "ipython3",
   "version": "3.9.7"
  }
 },
 "nbformat": 4,
 "nbformat_minor": 5
}
