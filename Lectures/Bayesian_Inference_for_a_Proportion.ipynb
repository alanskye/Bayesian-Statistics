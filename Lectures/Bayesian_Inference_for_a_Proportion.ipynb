{
 "cells": [
  {
   "cell_type": "markdown",
   "id": "aec6188b",
   "metadata": {},
   "source": [
    "## Bayesian Inference for a Proprtion\n",
    "\n",
    "\n",
    "* Example: Tokyo Express customers' dining preference  \n",
    "The owner wants to find out how popular is choice of Friday.\n"
   ]
  },
  {
   "cell_type": "markdown",
   "id": "ff850f85",
   "metadata": {},
   "source": [
    "### Step 0: Import necesasry packages"
   ]
  },
  {
   "cell_type": "code",
   "execution_count": 30,
   "id": "5dc3364a",
   "metadata": {},
   "outputs": [],
   "source": [
    "import numpy as np\n",
    "import pandas as pd\n",
    "import matplotlib.pyplot as plt\n",
    "from scipy.stats import binom, beta"
   ]
  },
  {
   "cell_type": "markdown",
   "id": "f45f2da6",
   "metadata": {},
   "source": [
    "### Step 1: Consider the percentage of customers' choice is Friday  \n",
    "Before giving out the survey, let's consider the possible values and corresponding probablities of $p$"
   ]
  },
  {
   "cell_type": "code",
   "execution_count": 3,
   "id": "dce2b237",
   "metadata": {},
   "outputs": [],
   "source": [
    "prior_values = np.array([0.3, 0.4, 0.5, 0.6, 0.7, 0.8])\n",
    "prior_probs = np.array([0.125, 0.125, 0.250, 0.250, 0.125, 0.125])"
   ]
  },
  {
   "cell_type": "markdown",
   "id": "e359675d",
   "metadata": {},
   "source": [
    "Note that probabilities are reasonable due to **Axioms of Probability**  \n",
    "1. For any event $A$, $P(A) \\in [0, 1]$\n",
    "2. $P(U)=1$\n",
    "3. If $A_i$ and $A_j$ are disjoint, $P(A_i \\cup A_j)=P(A_i)+P(A_j)$"
   ]
  },
  {
   "cell_type": "code",
   "execution_count": 4,
   "id": "7efb4c2c",
   "metadata": {},
   "outputs": [
    {
     "data": {
      "image/png": "[encoded data removed]",
      "text/plain": [
       "<Figure size 432x288 with 1 Axes>"
      ]
     },
     "metadata": {
      "needs_background": "light"
     },
     "output_type": "display_data"
    }
   ],
   "source": [
    "\n",
    "plt.bar(prior_values, prior_probs, color='blue', width=0.05)\n",
    "plt.show()"
   ]
  },
  {
   "cell_type": "markdown",
   "id": "e9839b31",
   "metadata": {},
   "source": [
    "### Step 2: Collect the data and Compute the likelihood of $p$  \n",
    "Out of the 20 responses, 12 say that their favorite day for eating out for dinner is Friday.  \n",
    "Quantitiy of interest: $p$, unknown, we're trying to make a inference about it!"
   ]
  },
  {
   "cell_type": "code",
   "execution_count": 5,
   "id": "d24390fb",
   "metadata": {},
   "outputs": [],
   "source": [
    "n = 20\n",
    "y = 12"
   ]
  },
  {
   "cell_type": "markdown",
   "id": "7ac307b2",
   "metadata": {},
   "source": [
    "\n",
    "* **The Binomial Distribution**  \n",
    "1. One is repeating the same basic task $n$ times\n",
    "2. 2 outcomes - *success* or *failure*\n",
    "3. The probability of of *success* is always $p$\n",
    "4. The results of outcomes from different trials are independent\n",
    "\n",
    "\n",
    "Do you think that the survey is a Binomial Experiment?\n",
    "1. 20 people\n",
    "2. *success*: Choose Friday\n",
    "3. For simplicity, let's assume that people answered independently\n",
    "\n",
    "$$P(Y=k)={n \\choose k}p^k(1-p)^{n-k}, k=0,...,n$$\n",
    "* **Likelihood**  \n",
    "a function of unknown quantity of interest. After collecting data, in this case,\n",
    "$$L(p) = {20 \\choose 12}p^k(1-p)^{n-k}$$\n",
    "$Y:$ even though it is the random variable, but once we observed the data, it is now **fixed!**  \n",
    "\n",
    "In Bayesian Inference, we assume that data is fixed and parameter is unknown. We only need $n, k$ and possible values of $p$ when computing the likelihood function. Note that we don't need $\\pi_{\\text{owner}}(p)$"
   ]
  },
  {
   "cell_type": "code",
   "execution_count": 6,
   "id": "d07edf35",
   "metadata": {},
   "outputs": [
    {
     "name": "stdout",
     "output_type": "stream",
     "text": [
      "     p  prior  likelihood\n",
      "0  0.3  0.125    0.003859\n",
      "1  0.4  0.125    0.035497\n",
      "2  0.5  0.250    0.120134\n",
      "3  0.6  0.250    0.179706\n",
      "4  0.7  0.125    0.114397\n",
      "5  0.8  0.125    0.022161\n"
     ]
    }
   ],
   "source": [
    "likelihoods = binom.pmf(y, n, prior_values)\n",
    "\n",
    "result = np.transpose(np.array([prior_values, prior_probs, likelihoods]))\n",
    "df = pd.DataFrame(result, columns = ['p','prior','likelihood'])\n",
    "print(df)"
   ]
  },
  {
   "cell_type": "markdown",
   "id": "e99b6275",
   "metadata": {},
   "source": [
    "### Step 3: Compute posterior distribution"
   ]
  },
  {
   "cell_type": "markdown",
   "id": "d5946ec3",
   "metadata": {},
   "source": [
    "$$\\pi(p_i|y)=\\frac{\\pi(p_i) \\times L(p)}{\\sum_{j}{\\pi(p_j) \\times L(p_j)}}$$"
   ]
  },
  {
   "cell_type": "code",
   "execution_count": 7,
   "id": "373707be",
   "metadata": {},
   "outputs": [],
   "source": [
    "products = likelihoods * prior_probs\n",
    "sum_p = np.sum(products)\n",
    "posterior_probs = products / sum_p"
   ]
  },
  {
   "cell_type": "code",
   "execution_count": 8,
   "id": "f8566b05",
   "metadata": {},
   "outputs": [
    {
     "data": {
      "image/png": "[encoded data removed]",
      "text/plain": [
       "<Figure size 432x288 with 1 Axes>"
      ]
     },
     "metadata": {
      "needs_background": "light"
     },
     "output_type": "display_data"
    }
   ],
   "source": [
    "plt.bar(prior_values, posterior_probs, color='blue', width=0.05)\n",
    "plt.show()"
   ]
  },
  {
   "cell_type": "code",
   "execution_count": 9,
   "id": "a4f41c72",
   "metadata": {},
   "outputs": [
    {
     "name": "stdout",
     "output_type": "stream",
     "text": [
      "     p  prior  likelihood   product  posterior\n",
      "0  0.3  0.125    0.003859  0.000482   0.004976\n",
      "1  0.4  0.125    0.035497  0.004437   0.045768\n",
      "2  0.5  0.250    0.120134  0.030034   0.309786\n",
      "3  0.6  0.250    0.179706  0.044926   0.463401\n",
      "4  0.7  0.125    0.114397  0.014300   0.147496\n",
      "5  0.8  0.125    0.022161  0.002770   0.028573\n"
     ]
    }
   ],
   "source": [
    "likelihoods = binom.pmf(y, n, prior_values)\n",
    "result = np.transpose(np.array([prior_values, prior_probs, likelihoods, products, posterior_probs]))\n",
    "df = pd.DataFrame(result, columns = ['p','prior','likelihood', 'product', 'posterior'])\n",
    "print(df)"
   ]
  },
  {
   "cell_type": "markdown",
   "id": "8e11b745",
   "metadata": {},
   "source": [
    "## Continuous prios - the Beta distribution\n",
    "\n",
    "\\* *From [wikipedia](https://en.wikipedia.org/wiki/Beta_distribution#Bayesian_inference)*  \n",
    "\n",
    "The Bayesian inference, the beta distribution is the **conjugate prior probability distribution** for the **Bernoulli**, **binomial**, **negative binomial** and **geometric distributions**. It is a suitable model for the random behavior of percentage and proportions.\n",
    "\n",
    "---\n",
    "The prior and posterior are called **conjugate distributions** if those are in the same distribution family, and such prior is called **conjugate prior**.\n",
    "\n",
    "* Advantages:\n",
    "1. Closed-form expression (algebraic expression). Without conjugate prior, numerical integral may be necessary\n",
    "2. Conjugate prior may give some intuition such as how likelihood funcion updates a prior distribution\n",
    "---\n",
    "\n",
    "For $0 \\leq x \\leq 1, \\alpha, \\beta > 0$\n",
    "\n",
    "$$f(x;\\alpha,\\beta)=\\frac{1}{B(\\alpha,\\beta)}x^{\\alpha-1}(1-x)^{\\beta-1} $$\n",
    "\n",
    "### Properties\n",
    "1. **Mode**: The most likely value of the distribution  \n",
    "If $\\alpha, \\beta>1$, \n",
    "$$\\frac{\\alpha-1}{\\alpha+\\beta-2}$$  \n",
    "If not, it indicates **anti-mode**, the lowest point of the pdf  \n",
    "\n",
    "2. **Mean(Expectation)**:\n",
    "$$\\frac{\\alpha}{\\alpha+\\beta}$$\n",
    "3. **Variance**:\n",
    "$$\\text{var}(X)=\\frac{\\alpha\\beta}{(\\alpha+\\beta)^2(\\alpha+\\beta+1)}$$\n",
    "\n",
    "### Bayesian Inference\n",
    "* $a, b$ represents how many **prior successes / failures** you think that there should be\n",
    "* $a+b$ shows how strong the prior assumption is.\n",
    "\n",
    "### Examples of Beta Curves"
   ]
  },
  {
   "cell_type": "code",
   "execution_count": 104,
   "id": "fb62ba24",
   "metadata": {},
   "outputs": [],
   "source": [
    "def draw_beta(a, b):\n",
    "    x = np.linspace(beta.ppf(0.00001, a, b), beta.ppf(0.99999, a, b), 100)\n",
    "    fig, ax = plt.subplots(1, 1, figsize=(9, 6))\n",
    "    plt.plot(x, beta.pdf(x, a, b), lw=3)\n",
    "    plt.title(f'Beta({a},{b})')\n",
    "    plt.show()\n",
    "    "
   ]
  },
  {
   "cell_type": "code",
   "execution_count": 78,
   "id": "2c0b64ac",
   "metadata": {},
   "outputs": [],
   "source": [
    "beta_params = np.array([[(0.5, 0.5), (0.5, 1), (0.5, 2)], \n",
    "                        [(1, 0.5), (1, 1), (1, 2)],\n",
    "                        [(4,0.5), (4,1), (4,2)]], \n",
    "                       )"
   ]
  },
  {
   "cell_type": "code",
   "execution_count": 79,
   "id": "64655079",
   "metadata": {},
   "outputs": [
    {
     "name": "stdout",
     "output_type": "stream",
     "text": [
      "(3, 3, 2)\n"
     ]
    },
    {
     "data": {
      "image/png": "[encoded data removed]",
      "text/plain": [
       "<Figure size 648x432 with 10 Axes>"
      ]
     },
     "metadata": {
      "needs_background": "light"
     },
     "output_type": "display_data"
    }
   ],
   "source": [
    "print(beta_params.shape)\n",
    "\n",
    "len_x, len_y, _ = beta_params.shape\n",
    "fig, axs = plt.subplots(len_x, len_y, sharex = True, figsize=(9,6))\n",
    "fig.add_subplot(111, frameon=False)\n",
    "for i, j in np.ndindex((len_x, len_y)):\n",
    "    a, b = beta_params[i, j]\n",
    "    # returns evenly spaced numbers over a specificed interval\n",
    "    x = np.linspace(beta.ppf(0.0001, a, b), beta.ppf(0.9999, a, b), 100)\n",
    "    axs[i, j].plot(x, beta.pdf(x, a, b), lw=3)\n",
    "    axs[i, j].set_title(f'Beta({a},{b})')\n",
    "    axs[i, j].get_yaxis().set_visible(False)\n",
    "\n",
    "fig.tight_layout()\n",
    "plt.tick_params(labelcolor='none', which='both', top=False, bottom=False, left=False, right=False)\n",
    "plt.xlabel('p')\n",
    "plt.ylabel('Density')\n",
    "plt.show()"
   ]
  },
  {
   "cell_type": "markdown",
   "id": "e7d6ec3f",
   "metadata": {},
   "source": [
    "### How to choose a Beta curve to represent prior opinions?\n",
    "\n",
    "* Specify a Beta prior by specification of quantiles of the distribution  \n",
    "\n",
    "*quantile:* are about rank order of values. ex) middle quantile = medium"
   ]
  },
  {
   "cell_type": "code",
   "execution_count": 105,
   "id": "882299eb",
   "metadata": {},
   "outputs": [],
   "source": [
    "def beta_select(quantile1, quantile2):\n",
    "    def betaprior1(K, x, p):\n",
    "        EPS = 0.0001\n",
    "        lo = 0.0, hi = 1.0, flag = False\n",
    "        while (flag == False):\n",
    "            mid = (lo + hi) / 2.0\n",
    "            p0 = beta.cdf(x, K * mid, K * (1 - mid))\n",
    "            if (p0 < p):\n",
    "                hi = mid\n",
    "            else:\n",
    "                lo = mid\n",
    "            if abs(p0 = p) < EPS):\n",
    "                flag = True\n",
    "        return mid\n",
    "    \n",
    "    p1 = quantile1['p'], x1 = quantile1['x']\n",
    "    p2 = quantile2['p'], x2 = quantile2['x']\n",
    "    \n",
    "    logK = np.linspace(-3, 8, num=100)\n",
    "    K = np.exp(logK) # sum of two shape parameters (sample size)\n",
    "    mids = betaprior1(K, x1, p1)\n",
    "    \n",
    "    prob2 = beta.cdf(x2, K * mids, K * (1 - mids))\n",
    "    \n",
    "    #\n",
    "    \n",
    "    return np.round(K * m0, \n",
    "    \n",
    "    "
   ]
  },
  {
   "cell_type": "code",
   "execution_count": 106,
   "id": "4c9673e5",
   "metadata": {},
   "outputs": [
    {
     "data": {
      "image/png": "[encoded data removed]",
      "text/plain": [
       "<Figure size 648x432 with 1 Axes>"
      ]
     },
     "metadata": {
      "needs_background": "light"
     },
     "output_type": "display_data"
    }
   ],
   "source": [
    "draw_beta(1, 1)"
   ]
  },
  {
   "cell_type": "code",
   "execution_count": null,
   "id": "4d6234bc",
   "metadata": {},
   "outputs": [],
   "source": []
  },
  {
   "cell_type": "code",
   "execution_count": null,
   "id": "d01fed68",
   "metadata": {},
   "outputs": [],
   "source": []
  },
  {
   "cell_type": "code",
   "execution_count": null,
   "id": "f17faf09",
   "metadata": {},
   "outputs": [],
   "source": []
  }
 ],
 "metadata": {
  "kernelspec": {
   "display_name": "Python 3 (ipykernel)",
   "language": "python",
   "name": "python3"
  },
  "language_info": {
   "codemirror_mode": {
    "name": "ipython",
    "version": 3
   },
   "file_extension": ".py",
   "mimetype": "text/x-python",
   "name": "python",
   "nbconvert_exporter": "python",
   "pygments_lexer": "ipython3",
   "version": "3.9.7"
  }
 },
 "nbformat": 4,
 "nbformat_minor": 5
}
